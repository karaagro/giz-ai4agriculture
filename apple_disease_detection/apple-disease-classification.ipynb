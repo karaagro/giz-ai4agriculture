{
 "cells": [
  {
   "cell_type": "code",
   "execution_count": null,
   "metadata": {
    "_cell_guid": "b1076dfc-b9ad-4769-8c92-a6c4dae69d19",
    "_uuid": "8f2839f25d086af736a60e9eeb907d3b93b6e0e5"
   },
   "outputs": [],
   "source": [
    "import numpy as np # linear algebra\n",
    "import pandas as pd # data processing, CSV file I/O (e.g. pd.read_csv)\n",
    "import os\n",
    "from glob import glob\n",
    "%matplotlib inline\n",
    "import matplotlib.pyplot as plt\n",
    "import fnmatch\n",
    "import seaborn as sns"
   ]
  },
  {
   "cell_type": "code",
   "execution_count": null,
   "metadata": {},
   "outputs": [],
   "source": [
    "dataframe = pd.read_csv('full_scaffold_dataset.csv')\n",
    "dataframe.sample(10)"
   ]
  },
  {
   "cell_type": "code",
   "execution_count": null,
   "metadata": {
    "_cell_guid": "ff43d240-eef2-42a5-b2fe-44d13e1ac7c4",
    "_uuid": "57bcb76ff586debe9cf9d28605535df1422bc2dd"
   },
   "outputs": [],
   "source": [
    "label_counts = dataframe['Class'].value_counts()[:15]\n",
    "plt.figure(figsize=(11,8))\n",
    "#fig = plt.subplots(1,1,figsize = (11, 8))\n",
    "ax1 = sns.barplot(x=np.arange(len(label_counts))+0.5, y=label_counts)\n",
    "#ax1.bar(np.arange(len(label_counts))+0.5, label_counts)\n",
    "ax1.set_xticks(np.arange(len(label_counts)))\n",
    "_ = ax1.set_xticklabels(label_counts.index)\n",
    "plt.savefig('classes.png')"
   ]
  },
  {
   "cell_type": "code",
   "execution_count": null,
   "metadata": {
    "_cell_guid": "2f2b7b8e-537e-46f0-9081-b82ec15c9e9a",
    "_uuid": "e5f6e7bf25cdd9de1059cda773ca5b6e2edf0b96"
   },
   "outputs": [],
   "source": [
    "from keras.preprocessing.image import ImageDataGenerator\n",
    "IMG_SIZE = (128, 128)\n",
    "datagen = ImageDataGenerator(samplewise_center=True, \n",
    "                              samplewise_std_normalization=True, \n",
    "                              horizontal_flip = True, \n",
    "                              vertical_flip = False, \n",
    "                              height_shift_range= 0.05, \n",
    "                              width_shift_range=0.1, \n",
    "                              rotation_range=5, \n",
    "                              shear_range = 0.1,\n",
    "                              fill_mode = 'reflect',\n",
    "                              zoom_range=0.15)"
   ]
  },
  {
   "cell_type": "code",
   "execution_count": null,
   "metadata": {
    "_cell_guid": "d8801656-2109-4f6b-a3a8-fe66f3acdc33",
    "_uuid": "691bc4a071ec55e821f9af410f147083350cf5d6",
    "scrolled": true
   },
   "outputs": [],
   "source": [
    "\n",
    "train_generator = datagen.flow_from_directory(\n",
    "        'apple-diseases/train',\n",
    "        target_size=IMG_SIZE,\n",
    "        color_mode = 'rgb',\n",
    "        batch_size=32,\n",
    "        class_mode='categorical')\n",
    "\n",
    "\n",
    "x_val, y_val = next(datagen.flow_from_directory(\n",
    "        'apple-diseases/validation',\n",
    "        target_size=IMG_SIZE,\n",
    "        color_mode = 'rgb',\n",
    "        batch_size=180,\n",
    "        class_mode='categorical')) # one big batch\n",
    "\n",
    "\n",
    "x_test, y_test = next(datagen.flow_from_directory(\n",
    "        'apple-diseases/test',\n",
    "        target_size=IMG_SIZE,\n",
    "        color_mode = 'rgb',\n",
    "        batch_size=180,\n",
    "        class_mode='categorical')) # one big batch"
   ]
  },
  {
   "cell_type": "code",
   "execution_count": null,
   "metadata": {
    "_cell_guid": "81ffd283-35b8-420e-bd09-281086d53e90",
    "_uuid": "d9d64af1572b3192b632d822418a967181bdaa32"
   },
   "outputs": [],
   "source": [
    "num_classes = 4\n",
    "\n",
    "from keras.applications.mobilenet import MobileNet \n",
    "from keras.layers import GlobalAveragePooling2D, Dense, Dropout, Flatten\n",
    "from keras.layers import Conv2D,  SeparableConv2D\n",
    "from keras.models import Sequential\n",
    "base_mobilenet_model = MobileNet(input_shape =  x_val.shape[1:], \n",
    "                                 include_top = False, weights = '../input/keras-pretrained-models-no-top/mobilenet_1_0_128_tf_no_top.h5')\n",
    "model = Sequential()\n",
    "model.add(base_mobilenet_model)\n",
    "model.add(GlobalAveragePooling2D())\n",
    "model.add(Dropout(0.25))\n",
    "model.add(Dense(512, activation='relu'))\n",
    "model.add(Dropout(0.25))\n",
    "model.add(Dense(256, activation='relu'))\n",
    "model.add(Dropout(0.25))\n",
    "model.add(Dense(num_classes, activation='softmax'))\n",
    "model.compile(optimizer = 'adam', loss = 'categorical_crossentropy',\n",
    "                           metrics = ['categorical_accuracy', 'mae'])\n",
    "model.summary()\n"
   ]
  },
  {
   "cell_type": "code",
   "execution_count": null,
   "metadata": {
    "_cell_guid": "7242edf7-967b-45a6-b46c-59e48a614242",
    "_uuid": "78513eb97e6f663ec9282549be41f8536d164441"
   },
   "outputs": [],
   "source": [
    "from keras.callbacks import ModelCheckpoint, LearningRateScheduler, EarlyStopping, ReduceLROnPlateau\n",
    "weight_path=\"{}_weights.best.hdf5\".format('apple_diseases')\n",
    "\n",
    "checkpoint = ModelCheckpoint(weight_path, monitor='val_loss', verbose=1, \n",
    "                             save_best_only=True, mode='min', save_weights_only = True)\n",
    "\n",
    "early = EarlyStopping(monitor=\"val_loss\", \n",
    "                      mode=\"min\", \n",
    "                      patience=6)\n",
    "callbacks_list = [checkpoint, early]"
   ]
  },
  {
   "cell_type": "code",
   "execution_count": null,
   "metadata": {
    "_cell_guid": "f77db466-b75e-4ad3-bf63-73269560f25a",
    "_uuid": "e98add512c8f00070f1e0d37c6dd98106a8b7fe8",
    "scrolled": true
   },
   "outputs": [],
   "source": [
    "#First Round \n",
    "model.fit_generator(train_generator, \n",
    "                    steps_per_epoch=100, \n",
    "                    validation_data = (x_val, y_val), \n",
    "                    epochs = 1, \n",
    "                    callbacks = callbacks_list)\n",
    "\n",
    "# Serialize model to JSON\n",
    "from keras.models import model_from_json\n",
    "model_json = model.to_json()\n",
    "with open(r'tomato_disease.json', \"w\") as json_file:\n",
    "    json_file.write(model_json)"
   ]
  },
  {
   "cell_type": "code",
   "execution_count": null,
   "metadata": {
    "_cell_guid": "420c7413-ebef-4af5-b1b9-e2d123cdddab",
    "_uuid": "efd90f7cb02f6406a2217f3d262b8e51c73f0a8e"
   },
   "outputs": [],
   "source": [
    "scores = model.evaluate(x_val, y_val)\n",
    "print(\"%s: %.2f%%\" % (model.metrics_names[1], scores[1]*100))\n",
    "print(\"val_loss:\", scores[0])\n",
    "print(\"val_mean_absolute_error:\", scores[2])"
   ]
  },
  {
   "cell_type": "code",
   "execution_count": null,
   "metadata": {
    "_cell_guid": "3c1c4f99-9419-4f95-bc1b-37b33ee00160",
    "_uuid": "dea62f06745f3fff381d8b9b6f324f9ca832380f",
    "collapsed": true
   },
   "outputs": [],
   "source": [
    "# Continued Training\n",
    "#core_idg.flow(x_train, y_train, batch_size=200)\n",
    "model.fit_generator(train_generator, \n",
    "                    steps_per_epoch=100, \n",
    "                    validation_data = (x_val, y_val), \n",
    "                    epochs = 12, \n",
    "                    callbacks = callbacks_list)"
   ]
  },
  {
   "cell_type": "code",
   "execution_count": null,
   "metadata": {
    "_cell_guid": "79c7e3d0-c299-4dcb-8224-4455121ee9b0",
    "_uuid": "d629ff2d2480ee46fbb7e2d37f6b5fab8052498a"
   },
   "outputs": [],
   "source": [
    "# load the best weights\n",
    "model.load_weights(weight_path)\n",
    "#pred_Y = multi_disease_model.predict(test_X, batch_size = 32, verbose = True)\n",
    "scores = model.evaluate(x_val, y_val)\n",
    "print(\"%s: %.2f%%\" % (model.metrics_names[1], scores[1]*100))\n",
    "print(\"val_loss:\", scores[0])\n",
    "print(\"val_mean_absolute_error:\", scores[2])"
   ]
  },
  {
   "cell_type": "code",
   "execution_count": null,
   "metadata": {
    "_cell_guid": "2ad02181-c6c4-44ef-955b-572cf8bbe0a3",
    "_uuid": "2e192ef19fac9689d608a999f413976076b7919a",
    "scrolled": false
   },
   "outputs": [],
   "source": [
    "pred_Y = model.predict(x_val, batch_size = 32, verbose = True)\n",
    "print(pred_Y[:15])"
   ]
  },
  {
   "cell_type": "code",
   "execution_count": null,
   "metadata": {
    "_cell_guid": "cf20e794-d515-4add-95a5-deb2b479ec3e",
    "_uuid": "466f5408d2b1dfcf2af11cbeed5b621cc63f8029"
   },
   "outputs": [],
   "source": [
    "print(y_val[:15])"
   ]
  },
  {
   "cell_type": "code",
   "execution_count": null,
   "metadata": {
    "_cell_guid": "7268eccf-7f62-49fa-add8-f5a89a56b289",
    "_uuid": "3763ce1b2483a2b33a3d4706a9408bbc946f25eb"
   },
   "outputs": [],
   "source": [
    "y_test.shape"
   ]
  },
  {
   "cell_type": "code",
   "execution_count": null,
   "metadata": {
    "_cell_guid": "34be76da-3a43-49dd-853c-d57c3b7b52ef",
    "_uuid": "b8e53062b2933fd3ebf971ebe2f3f4bf6fc7d125"
   },
   "outputs": [],
   "source": [
    "pred_Y.shape"
   ]
  },
  {
   "cell_type": "code",
   "execution_count": null,
   "metadata": {
    "_cell_guid": "6fc7e8f7-8435-4ef6-ab7f-1eb6840a27a0",
    "_uuid": "890eab7dffb0fe1f5b27bad6bb26c62b387b526a"
   },
   "outputs": [],
   "source": [
    "from sklearn.preprocessing import LabelEncoder\n",
    "class_labels = LabelEncoder()\n",
    "prediction_le = class_labels.fit_transform(pred_Y)"
   ]
  },
  {
   "cell_type": "code",
   "execution_count": null,
   "metadata": {
    "_cell_guid": "8298a14b-a3dd-4396-bd55-ab166d68d23b",
    "_uuid": "889a977f6e7a6a8743b231db714e1b4a411b8cb5"
   },
   "outputs": [],
   "source": [
    "from sklearn.metrics import roc_curve, auc\n",
    "# Compute ROC curve and ROC area for each class\n",
    "fpr = dict()\n",
    "tpr = dict()\n",
    "roc_auc = dict()\n",
    "for i in range(num_classes):\n",
    "    fpr[i], tpr[i], _ = roc_curve(y_val[:, i], pred_Y[:, i])\n",
    "    roc_auc[i] = auc(fpr[i], tpr[i])\n",
    "\n",
    "# Compute micro-average ROC curve and ROC area\n",
    "fpr[\"micro\"], tpr[\"micro\"], _ = roc_curve(y_val.ravel(), pred_Y.ravel())\n",
    "roc_auc[\"micro\"] = auc(fpr[\"micro\"], tpr[\"micro\"])\n"
   ]
  },
  {
   "cell_type": "code",
   "execution_count": null,
   "metadata": {
    "_uuid": "70e9eac6227d8221f2adf44f320049d4664a651b"
   },
   "outputs": [],
   "source": [
    "from scipy import interp\n",
    "from itertools import cycle\n",
    "\n",
    "lw = 2\n",
    "\n",
    "# Compute macro-average ROC curve and ROC area\n",
    "\n",
    "# First aggregate all false positive rates\n",
    "all_fpr = np.unique(np.concatenate([fpr[i] for i in range(num_classes)]))\n",
    "\n",
    "# Then interpolate all ROC curves at this points\n",
    "mean_tpr = np.zeros_like(all_fpr)\n",
    "for i in range(num_classes):\n",
    "    mean_tpr += interp(all_fpr, fpr[i], tpr[i])\n",
    "\n",
    "# Finally average it and compute AUC\n",
    "mean_tpr /= num_classes\n",
    "\n",
    "fpr[\"macro\"] = all_fpr\n",
    "tpr[\"macro\"] = mean_tpr\n",
    "roc_auc[\"macro\"] = auc(fpr[\"macro\"], tpr[\"macro\"])\n",
    "\n",
    "\n",
    "# Plot all ROC curves\n",
    "plt.figure(figsize=(11,8))\n",
    "plt.plot(fpr[\"micro\"], tpr[\"micro\"],\n",
    "         label='micro-average ROC curve (area = {0:0.2f})'\n",
    "               ''.format(roc_auc[\"micro\"]),\n",
    "         color='deeppink', linestyle=':', linewidth=4)\n",
    "\n",
    "plt.plot(fpr[\"macro\"], tpr[\"macro\"],\n",
    "         label='macro-average ROC curve (area = {0:0.2f})'\n",
    "               ''.format(roc_auc[\"macro\"]),\n",
    "         color='navy', linestyle=':', linewidth=4)\n",
    "\n",
    "colors = cycle(['aqua', 'darkorange', 'cornflowerblue'])\n",
    "for i, color in zip(range(num_classes), colors):\n",
    "    plt.plot(fpr[i], tpr[i], color=color, lw=lw,\n",
    "             label='ROC curve of class {0} (area = {1:0.2f})'\n",
    "             ''.format(i, roc_auc[i]))\n",
    "\n",
    "plt.plot([0, 1], [0, 1], 'k--', lw=lw)\n",
    "plt.xlim([0.0, 1.0])\n",
    "plt.ylim([0.0, 1.05])\n",
    "plt.xlabel('False Positive Rate')\n",
    "plt.ylabel('True Positive Rate')\n",
    "plt.title('Some extension of Receiver operating characteristic to multi-class')\n",
    "plt.legend(loc=\"lower right\")\n",
    "plt.savefig('roc_all.png')\n",
    "    "
   ]
  },
  {
   "cell_type": "code",
   "execution_count": null,
   "metadata": {
    "_cell_guid": "7f4434c4-1c0c-498a-a79d-044f60123868",
    "_uuid": "fd35d8cd97b82b5035a1bc94211bff4b659d0cb8",
    "collapsed": true
   },
   "outputs": [],
   "source": [
    "# load the best weights\n",
    "model.load_weights(weight_path)\n",
    "#pred_Y = multi_disease_model.predict(test_X, batch_size = 32, verbose = True)\n",
    "scores = model.evaluate(x_test, y_test)\n",
    "print(\"%s: %.2f%%\" % (model.metrics_names[1], scores[1]*100))\n",
    "print(\"val_loss:\", scores[0])\n",
    "print(\"val_mean_absolute_error:\", scores[2])"
   ]
  },
  {
   "cell_type": "code",
   "execution_count": null,
   "metadata": {
    "_uuid": "0f907ee8a62f63899990415d9f93a43d19932e3e",
    "collapsed": true
   },
   "outputs": [],
   "source": [
    "pred_Y = model.predict(x_test, batch_size = 32, verbose = True)\n",
    "print(pred_Y[:15])\n"
   ]
  },
  {
   "cell_type": "code",
   "execution_count": null,
   "metadata": {
    "_uuid": "45abc490c56ba4a4447f686dc9e3084c9820a8b3",
    "collapsed": true
   },
   "outputs": [],
   "source": [
    "print(y_test[:15])"
   ]
  },
  {
   "cell_type": "code",
   "execution_count": null,
   "metadata": {
    "_uuid": "62c33428587aa014085b62cd1dda38a5635247e2",
    "collapsed": true
   },
   "outputs": [],
   "source": [
    "from sklearn.metrics import roc_curve, auc\n",
    "# Compute ROC curve and ROC area for each class\n",
    "fpr = dict()\n",
    "tpr = dict()\n",
    "roc_auc = dict()\n",
    "for i in range(num_classes):\n",
    "    fpr[i], tpr[i], _ = roc_curve(y_test[:, i], pred_Y[:, i])\n",
    "    roc_auc[i] = auc(fpr[i], tpr[i])\n",
    "\n",
    "# Compute micro-average ROC curve and ROC area\n",
    "fpr[\"micro\"], tpr[\"micro\"], _ = roc_curve(y_test.ravel(), pred_Y.ravel())\n",
    "roc_auc[\"micro\"] = auc(fpr[\"micro\"], tpr[\"micro\"])\n",
    "\n",
    "\n",
    "\n",
    "\n",
    "from scipy import interp\n",
    "from itertools import cycle\n",
    "\n",
    "lw = 2\n",
    "\n",
    "# Compute macro-average ROC curve and ROC area\n",
    "\n",
    "# First aggregate all false positive rates\n",
    "all_fpr = np.unique(np.concatenate([fpr[i] for i in range(num_classes)]))\n",
    "\n",
    "# Then interpolate all ROC curves at this points\n",
    "mean_tpr = np.zeros_like(all_fpr)\n",
    "for i in range(num_classes):\n",
    "    mean_tpr += interp(all_fpr, fpr[i], tpr[i])\n",
    "\n",
    "# Finally average it and compute AUC\n",
    "mean_tpr /= num_classes\n",
    "\n",
    "fpr[\"macro\"] = all_fpr\n",
    "tpr[\"macro\"] = mean_tpr\n",
    "roc_auc[\"macro\"] = auc(fpr[\"macro\"], tpr[\"macro\"])\n",
    "\n",
    "\n",
    "# Plot all ROC curves\n",
    "plt.figure(figsize=(11,8))\n",
    "plt.plot(fpr[\"micro\"], tpr[\"micro\"],\n",
    "         label='micro-average ROC curve (area = {0:0.2f})'\n",
    "               ''.format(roc_auc[\"micro\"]),\n",
    "         color='deeppink', linestyle=':', linewidth=4)\n",
    "\n",
    "plt.plot(fpr[\"macro\"], tpr[\"macro\"],\n",
    "         label='macro-average ROC curve (area = {0:0.2f})'\n",
    "               ''.format(roc_auc[\"macro\"]),\n",
    "         color='navy', linestyle=':', linewidth=4)\n",
    "\n",
    "colors = cycle(['aqua', 'darkorange', 'cornflowerblue'])\n",
    "for i, color in zip(range(num_classes), colors):\n",
    "    plt.plot(fpr[i], tpr[i], color=color, lw=lw,\n",
    "             label='ROC curve of class {0} (area = {1:0.2f})'\n",
    "             ''.format(i, roc_auc[i]))\n",
    "\n",
    "plt.plot([0, 1], [0, 1], 'k--', lw=lw)\n",
    "plt.xlim([0.0, 1.0])\n",
    "plt.ylim([0.0, 1.05])\n",
    "plt.xlabel('False Positive Rate')\n",
    "plt.ylabel('True Positive Rate')\n",
    "plt.title('Some extension of Receiver operating characteristic to multi-class')\n",
    "plt.legend(loc=\"lower right\")\n",
    "plt.savefig('roc_test_all.png')\n",
    "    "
   ]
  }
 ],
 "metadata": {
  "kernelspec": {
   "display_name": "Python 3",
   "language": "python",
   "name": "python3"
  },
  "language_info": {
   "codemirror_mode": {
    "name": "ipython",
    "version": 3
   },
   "file_extension": ".py",
   "mimetype": "text/x-python",
   "name": "python",
   "nbconvert_exporter": "python",
   "pygments_lexer": "ipython3",
   "version": "3.7.9"
  }
 },
 "nbformat": 4,
 "nbformat_minor": 1
}
